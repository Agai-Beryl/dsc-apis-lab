{
 "cells": [
  {
   "cell_type": "markdown",
   "metadata": {},
   "source": [
    "# APIs - Cumulative Lab\n",
    "\n",
    "\n",
    "## Introduction \n",
    "\n",
    "We've seen how the Yelp API works and how to create basic visualizations using Folium. It's time to put those skills to work in order to create a working map! Taking things a step further, you'll also independently explore how to perform pagination in order to retrieve a full results set from the Yelp API.\n",
    "\n",
    "## Objectives\n",
    "\n",
    "You will be able to: \n",
    "\n",
    "* Practice using functions to organize your code\n",
    "* Use pagination to retrieve all results from an API query\n",
    "* Practice parsing data returned from an API query\n",
    "* Practice interpreting visualizations of a dataset\n",
    "* Create maps using Folium"
   ]
  },
  {
   "cell_type": "markdown",
   "metadata": {},
   "source": [
    "## Your Task: Query Yelp for All Businesses in a Category and Analyze the Results\n",
    "\n",
    "![restaurant counter with pizza](images/restaurant_counter.jpg)\n",
    "\n",
    "Photo by <a href=\"https://unsplash.com/@jordanmadrid?utm_source=unsplash&utm_medium=referral&utm_content=creditCopyText\">Jordan Madrid</a> on <a href=\"/s/photos/pizza-restaurant?utm_source=unsplash&utm_medium=referral&utm_content=creditCopyText\">Unsplash</a>"
   ]
  },
  {
   "cell_type": "markdown",
   "metadata": {},
   "source": [
    "### Overview\n",
    "\n",
    "You've now worked with some API calls, but we have yet to see how to retrieve a more complete dataset in a programmatic manner. In this lab, you will write a query of businesses on Yelp, then use *pagination* to retrieve all possible results for that query. Then you will create a summary of your findings, including a Folium map of the geographic locations of those businesses.\n",
    "\n",
    "### Technical Details\n",
    "\n",
    "Returning to the Yelp API, the [documentation](https://www.yelp.com/developers/documentation/v3/business_search) also provides us details regarding the **API limits**. These often include details about the number of requests a user is allowed to make within a specified time limit and the maximum number of results to be returned. In this case, we are told that any request has a **maximum of 50 results per request** and defaults to 20. Furthermore, any search will be limited to a **total of 1000 results**. To retrieve all 1000 of these results, we would have to page through the results piece by piece, retrieving 50 at a time. Processes such as these are often referred to as pagination.\n",
    "\n",
    "Also, be mindful of the **API** ***rate*** **limits**. You can only make **5000 requests per day** and can make requests too fast. Start prototyping small before running a loop that could be faulty. You can also use `time.sleep(n)` to add delays. For more details see https://www.yelp.com/developers/documentation/v3/rate_limiting.\n",
    "\n",
    "In this lab, you will define a search and then paginate over the results to retrieve all of the results. You'll then parse these responses as a list of dictionaries (for further exploration) and create a map using Folium to visualize the results geographically.\n",
    "\n",
    "### Requirements\n",
    "\n",
    "#### 1. Make the Initial Request\n",
    "\n",
    "Start by filling in your API key to make the initial request to the business search API. Investigate the structure of the response you get back and start figuring out how you will extract the relevant information.\n",
    "\n",
    "#### 2. Add Pagination\n",
    "\n",
    "Using loops and functions, collect the maximum number of results for your query from the API.\n",
    "\n",
    "#### 3. Perform Exploratory Analysis\n",
    "\n",
    "Interpret visualizations related to the price range, average rating, and number of reviews for all query results.\n",
    "\n",
    "#### 4. Create a Folium Map\n",
    "\n",
    "Using latitude and longitude data, plot the query results on an interactive map."
   ]
  },
  {
   "cell_type": "markdown",
   "metadata": {},
   "source": [
    "## 1. Make the Initial Request\n",
    "\n",
    "### Querying\n",
    "\n",
    "Start by making an initial request to the Yelp API. Your search must include at least 2 parameters: **term** and **location**. For example, you might search for pizza restaurants in NYC. The term and location is up to you but make the request below.\n",
    "\n",
    "Use the `requests` library ([documentation here](https://requests.readthedocs.io/en/master/user/quickstart/#make-a-request)).\n",
    "\n",
    "You'll also need an API key from Yelp. If you haven't done this already, go to the Yelp [Manage App page](https://www.yelp.com/developers/v3/manage_app) and create a new app (after making an account if you haven't already)."
   ]
  },
  {
   "cell_type": "code",
   "execution_count": 5,
   "metadata": {},
   "outputs": [
    {
     "data": {
      "text/plain": [
       "<Response [200]>"
      ]
     },
     "execution_count": 5,
     "metadata": {},
     "output_type": "execute_result"
    }
   ],
   "source": [
    "# Replace None with appropriate code\n",
    "\n",
    "# Import the requests library\n",
    "import requests\n",
    "\n",
    "# Get this from the \"Manage App\" page. Make sure you set them\n",
    "# back to None before pushing this to GitHub, since otherwise\n",
    "# your credentials will be compromised\n",
    "api_key = 'oHO7VC_g4f8dx-yof18TszCxipWfLHmEXrFCLWxV88v525TDT2CJNOaSSfunea1oZhQ58mki2UKEi0hSfXLft1NhUT5d-Q6RoMuvrHtjXHenkMADJUh8qdTGUyT0ZXYx'\n",
    "\n",
    "# These can be whatever you want! But the solution uses \"pizza\"\n",
    "# and \"New York NY\" if you want to compare your work directly\n",
    "term = \"pizza\"\n",
    "location = \"New York NY\"\n",
    "\n",
    "# Set up params for request\n",
    "url = \"https://api.yelp.com/v3/businesses/search\"\n",
    "headers = {\n",
    "    \"Authorization\": \"Bearer {}\".format(api_key)\n",
    "}\n",
    "url_params = {\n",
    "    \"term\": term.replace(\" \", \"+\"),\n",
    "    \"location\": location.replace(\" \", \"+\")\n",
    "}\n",
    "\n",
    "# Make the request using requests.get, passing in\n",
    "# url, headers=headers, and params=url_params\n",
    "response = requests.get(url, headers=headers, params=url_params)\n",
    "\n",
    "# Confirm we got a 200 response\n",
    "response"
   ]
  },
  {
   "cell_type": "code",
   "execution_count": 6,
   "metadata": {},
   "outputs": [
    {
     "data": {
      "text/plain": [
       "dict_keys(['businesses', 'total', 'region'])"
      ]
     },
     "execution_count": 6,
     "metadata": {},
     "output_type": "execute_result"
    }
   ],
   "source": [
    "# Run this cell without changes\n",
    "\n",
    "# Get the response body in JSON format\n",
    "response_json = response.json()\n",
    "# View the keys\n",
    "response_json.keys()"
   ]
  },
  {
   "cell_type": "markdown",
   "metadata": {},
   "source": [
    "### Extracting Data\n",
    "\n",
    "Now, retrieve the value associated with the `'businesses'` key, and inspect its contents."
   ]
  },
  {
   "cell_type": "code",
   "execution_count": 7,
   "metadata": {},
   "outputs": [
    {
     "data": {
      "text/plain": [
       "[{'id': 'ysqgdbSrezXgVwER2kQWKA',\n",
       "  'alias': 'julianas-brooklyn-3',\n",
       "  'name': \"Juliana's\",\n",
       "  'image_url': 'https://s3-media2.fl.yelpcdn.com/bphoto/od36nFW220aMFAnNP00ocw/o.jpg',\n",
       "  'is_closed': False,\n",
       "  'url': 'https://www.yelp.com/biz/julianas-brooklyn-3?adjust_creative=ICGkWrygXPlw6kVUifC-_A&utm_campaign=yelp_api_v3&utm_medium=api_v3_business_search&utm_source=ICGkWrygXPlw6kVUifC-_A',\n",
       "  'review_count': 2750,\n",
       "  'categories': [{'alias': 'pizza', 'title': 'Pizza'}],\n",
       "  'rating': 4.4,\n",
       "  'coordinates': {'latitude': 40.70274718768062,\n",
       "   'longitude': -73.99343490196397},\n",
       "  'transactions': ['delivery'],\n",
       "  'location': {'address1': '19 Old Fulton St',\n",
       "   'address2': '',\n",
       "   'address3': '',\n",
       "   'city': 'Brooklyn',\n",
       "   'zip_code': '11201',\n",
       "   'country': 'US',\n",
       "   'state': 'NY',\n",
       "   'display_address': ['19 Old Fulton St', 'Brooklyn, NY 11201']},\n",
       "  'phone': '+17185966700',\n",
       "  'display_phone': '(718) 596-6700',\n",
       "  'distance': 308.56984360837544},\n",
       " {'id': 'zj8Lq1T8KIC5zwFief15jg',\n",
       "  'alias': 'prince-street-pizza-new-york-2',\n",
       "  'name': 'Prince Street Pizza',\n",
       "  'image_url': 'https://s3-media1.fl.yelpcdn.com/bphoto/Jo9jBP5y6G_bG_g3H31fiw/o.jpg',\n",
       "  'is_closed': False,\n",
       "  'url': 'https://www.yelp.com/biz/prince-street-pizza-new-york-2?adjust_creative=ICGkWrygXPlw6kVUifC-_A&utm_campaign=yelp_api_v3&utm_medium=api_v3_business_search&utm_source=ICGkWrygXPlw6kVUifC-_A',\n",
       "  'review_count': 5217,\n",
       "  'categories': [{'alias': 'pizza', 'title': 'Pizza'},\n",
       "   {'alias': 'italian', 'title': 'Italian'}],\n",
       "  'rating': 4.3,\n",
       "  'coordinates': {'latitude': 40.72308755605564,\n",
       "   'longitude': -73.99453001177575},\n",
       "  'transactions': ['pickup', 'delivery'],\n",
       "  'location': {'address1': '27 Prince St',\n",
       "   'address2': None,\n",
       "   'address3': '',\n",
       "   'city': 'New York',\n",
       "   'zip_code': '10012',\n",
       "   'country': 'US',\n",
       "   'state': 'NY',\n",
       "   'display_address': ['27 Prince St', 'New York, NY 10012']},\n",
       "  'phone': '+12129664100',\n",
       "  'display_phone': '(212) 966-4100',\n",
       "  'distance': 1961.8771417367063}]"
      ]
     },
     "execution_count": 7,
     "metadata": {},
     "output_type": "execute_result"
    }
   ],
   "source": [
    "# Retrieve the value from response_json\n",
    "businesses = response_json[\"businesses\"]\n",
    "\n",
    "# View the first 2 records\n",
    "businesses[:2]"
   ]
  },
  {
   "cell_type": "markdown",
   "metadata": {},
   "source": [
    "### Preparing Data\n",
    "\n",
    "Write a function `prepare_data` that takes in a list of dictionaries like `businesses` and returns a copy that has been prepared for analysis:\n",
    "\n",
    "1. The `coordinates` key-value pair has been converted into two separate key-value pairs, `latitude` and `longitude`\n",
    "2. All other key-value pairs except for `name`, `review_count`, `rating`, and `price` have been dropped\n",
    "3. All dictionaries missing one of the relevant keys or containing null values have been dropped\n",
    "\n",
    "In other words, the final keys for each dictionary should be `name`, `review_count`, `rating`, `price`, `latitude`, and `longitude`.\n",
    "\n",
    "Complete the function in the cell below:"
   ]
  },
  {
   "cell_type": "code",
   "execution_count": 53,
   "metadata": {},
   "outputs": [
    {
     "data": {
      "text/plain": [
       "[{'name': \"Daisy's Pizza Place\",\n",
       "  'latitude': 40.821045,\n",
       "  'longitude': -73.912773,\n",
       "  'review_count': 10,\n",
       "  'rating': 4.2,\n",
       "  'price': None},\n",
       " {'name': \"Daisy's Pizza Place\",\n",
       "  'latitude': 40.821045,\n",
       "  'longitude': -73.912773,\n",
       "  'review_count': 10,\n",
       "  'rating': 4.2,\n",
       "  'price': None},\n",
       " {'name': \"Daisy's Pizza Place\",\n",
       "  'latitude': 40.821045,\n",
       "  'longitude': -73.912773,\n",
       "  'review_count': 10,\n",
       "  'rating': 4.2,\n",
       "  'price': None}]"
      ]
     },
     "execution_count": 53,
     "metadata": {},
     "output_type": "execute_result"
    }
   ],
   "source": [
    "# Replace None with appropriate code\n",
    "\n",
    "def prepare_data(data_list):\n",
    "    \"\"\"\n",
    "    This function takes in a list of dictionaries and prepares it\n",
    "    for analysis\n",
    "    \"\"\"\n",
    "    \n",
    "    # Make a new list to hold results\n",
    "    results = []\n",
    "    \n",
    "    for business_data in data_list:\n",
    "    \n",
    "        # Make a new dictionary to hold prepared data for this business\n",
    "        prepared_data = {}\n",
    "        \n",
    "        # Extract name, review_count, rating, and price key-value pairs\n",
    "        # from business_data and add to prepared_data\n",
    "        # If a key is not present in business_data, add it to prepared_data\n",
    "        # with an associated value of None\n",
    "    for key in (\"name\", \"review_count\", \"rating\", \"price\"):\n",
    "        prepared_data[key] = business_data.get(key, None)\n",
    "    \n",
    "        # Parse and add latitude and longitude columns\n",
    "        coordinates = business_data[\"coordinates\"]\n",
    "        prepared_data[\"latitude\"] = coordinates[\"latitude\"]\n",
    "        prepared_data[\"longitude\"] = coordinates[\"longitude\"]\n",
    "        \n",
    "        # Add to list if all values are present\n",
    "        if all(prepared_data.values()):\n",
    "            results.append(prepared_data)\n",
    "    \n",
    "    return results\n",
    "    \n",
    "# Test out function\n",
    "prepared_businesses = prepare_data(businesses)\n",
    "prepared_businesses[:5]\n",
    "\n",
    "    \n"
   ]
  },
  {
   "cell_type": "code",
   "execution_count": null,
   "metadata": {},
   "outputs": [],
   "source": [
    "\n",
    "\n",
    "\n"
   ]
  },
  {
   "cell_type": "markdown",
   "metadata": {},
   "source": [
    "Check that your function created the correct keys:"
   ]
  },
  {
   "cell_type": "code",
   "execution_count": 54,
   "metadata": {},
   "outputs": [],
   "source": [
    "# Run this cell without changes\n",
    "\n",
    "assert sorted(list(prepared_businesses[0].keys())) == ['latitude', 'longitude', 'name', 'price', 'rating', 'review_count']"
   ]
  },
  {
   "cell_type": "markdown",
   "metadata": {},
   "source": [
    "The following code will differ depending on your query, but we expect there to be 20 businesses in the original list, and potentially fewer in the prepared list (if any of them were missing data):"
   ]
  },
  {
   "cell_type": "code",
   "execution_count": 55,
   "metadata": {},
   "outputs": [
    {
     "name": "stdout",
     "output_type": "stream",
     "text": [
      "Original: 50\n",
      "Prepared: 3\n"
     ]
    }
   ],
   "source": [
    "# Run this cell without changes\n",
    "print(\"Original:\", len(businesses))\n",
    "print(\"Prepared:\", len(prepared_businesses))"
   ]
  },
  {
   "cell_type": "markdown",
   "metadata": {},
   "source": [
    "Great! We will reuse this function once we have retrieved the full dataset."
   ]
  },
  {
   "cell_type": "markdown",
   "metadata": {},
   "source": [
    "## 2. Add Pagination\n",
    "\n",
    "Now that you are able to extract information from one page of the response, let's figure out how to request as many pages as possible.\n",
    "\n",
    "### Determining the Total\n",
    "\n",
    "Depending on the number of total results for your query, you will either retrieve all of the results, or just the first 1000 (if there are more than 1000 total).\n",
    "\n",
    "We can find the total number of results using the `\"total\"` key:"
   ]
  },
  {
   "cell_type": "code",
   "execution_count": 56,
   "metadata": {},
   "outputs": [
    {
     "data": {
      "text/plain": [
       "10600"
      ]
     },
     "execution_count": 56,
     "metadata": {},
     "output_type": "execute_result"
    }
   ],
   "source": [
    "# Run this cell without changes\n",
    "response_json[\"total\"]"
   ]
  },
  {
   "cell_type": "markdown",
   "metadata": {},
   "source": [
    "(This is specific to the implementation of the Yelp API. Some APIs will just tell you that there are more pages, or will tell you the number of pages total, rather than the total number of results. If you're not sure, always check the documentation.)\n",
    "\n",
    "In the cell below, assign the variable `total` to either the value shown above (if it is less than 1000), or 1000."
   ]
  },
  {
   "cell_type": "code",
   "execution_count": 57,
   "metadata": {},
   "outputs": [],
   "source": [
    "# For \"pizza\" in NYC, there are well over 1000 results, so we assign\n",
    "# total to 1000\n",
    "total = 1000"
   ]
  },
  {
   "cell_type": "markdown",
   "metadata": {},
   "source": [
    "### Calculating the Offsets\n",
    "\n",
    "The documentation states in the parameters section:\n",
    "\n",
    "> **Name**: `limit`, **Type:** int, **Description:** Optional. Number of business results to return. By default, it will return 20. Maximum is 50.\n",
    "\n",
    "> **Name**: `offset`, **Type:** int, **Description:** Optional. Offset the list of returned business results by this amount.\n",
    "\n",
    "So, to get the most results with the fewest API calls we want to set a limit of 50 every time. If, say, we wanted to get 210 total results, that would mean:\n",
    "\n",
    "1. Offset of `0` (first 50 records)\n",
    "2. Offset of `50` (second 50 records)\n",
    "3. Offset of `100` (third 50 records)\n",
    "4. Offset of `150` (fourth 50 records)\n",
    "5. Offset of `200` (final 10 records)\n",
    "\n",
    "In the cell below, create a function `get_offsets` that takes in a total and returns a list of offsets for that total. You can assume that there is a limit of 50 every time.\n",
    "\n",
    "*Hint: you can use `range` ([documentation here](https://docs.python.org/3.3/library/stdtypes.html?highlight=range#range)) to do this in one line of code. Just make the returned result is a list.*"
   ]
  },
  {
   "cell_type": "code",
   "execution_count": 58,
   "metadata": {},
   "outputs": [],
   "source": [
    "def get_offsets(total):\n",
    "    \"\"\"\n",
    "    Get a list of offsets needed to get all pages\n",
    "    of data up until the total\n",
    "    \"\"\"\n",
    "    return list(range(0, total, 50))"
   ]
  },
  {
   "cell_type": "markdown",
   "metadata": {},
   "source": [
    "Check that your function works below:"
   ]
  },
  {
   "cell_type": "code",
   "execution_count": 59,
   "metadata": {},
   "outputs": [],
   "source": [
    "# Run this cell without changes\n",
    "\n",
    "assert get_offsets(200) == [0, 50, 100, 150]\n",
    "assert get_offsets(210) == [0, 50, 100, 150, 200]"
   ]
  },
  {
   "cell_type": "markdown",
   "metadata": {},
   "source": [
    "### Putting It All Together\n",
    "\n",
    "Recall that the following variable has already been declared for you:"
   ]
  },
  {
   "cell_type": "code",
   "execution_count": 60,
   "metadata": {},
   "outputs": [
    {
     "data": {
      "text/plain": [
       "{'term': 'pizza', 'location': 'New+York+NY', 'limit': 50, 'offset': 950}"
      ]
     },
     "execution_count": 60,
     "metadata": {},
     "output_type": "execute_result"
    }
   ],
   "source": [
    "# Run this cell without changes\n",
    "url_params"
   ]
  },
  {
   "cell_type": "markdown",
   "metadata": {},
   "source": [
    "We'll go ahead and also specify that the limit should be 50 every time:"
   ]
  },
  {
   "cell_type": "code",
   "execution_count": 61,
   "metadata": {},
   "outputs": [],
   "source": [
    "# Run this cell without changes\n",
    "url_params[\"limit\"] = 50"
   ]
  },
  {
   "cell_type": "markdown",
   "metadata": {},
   "source": [
    "In order to modify the offset, you'll need to add it to `url_params` with the key `\"offset\"` and whatever value is needed.\n",
    "\n",
    "In the cell below, write code that:\n",
    "\n",
    "* Creates an empty list for the full prepared dataset\n",
    "* Loops over all of the offsets from `get_offsets` and makes an API call each time with the specified offset\n",
    "* Calls `prepare_data` to get a cleaned version of the result of each API call\n",
    "* Extends the full prepared dataset list with each query's prepared dataset"
   ]
  },
  {
   "cell_type": "code",
   "execution_count": 62,
   "metadata": {},
   "outputs": [
    {
     "name": "stdout",
     "output_type": "stream",
     "text": [
      "Length of full dataset: 60\n"
     ]
    }
   ],
   "source": [
    "import requests\n",
    "\n",
    "# Create an empty list for the full prepared dataset\n",
    "full_dataset = []\n",
    "\n",
    "for offset in get_offsets(total):\n",
    "    # Add or update the \"offset\" key-value pair in url_params\n",
    "    url_params[\"offset\"] = offset\n",
    "    \n",
    "    # Make the query and get the response\n",
    "    response = requests.get(url, headers=headers, params=url_params)\n",
    "    \n",
    "    # Check if the request was successful\n",
    "    if response.status_code == 200:\n",
    "        # Get the response body in JSON format\n",
    "        response_json = response.json()\n",
    "        \n",
    "        # Get the list of businesses from the response_json\n",
    "        businesses = response_json.get(\"businesses\", [])\n",
    "        \n",
    "        # Call the prepare_data function to get a list of processed data\n",
    "        prepared_businesses = prepare_data(businesses)\n",
    "        \n",
    "        # Extend full_dataset with this list (don't append, or you'll get\n",
    "        # a list of lists instead of a flat list)\n",
    "        full_dataset.extend(prepared_businesses)\n",
    "    else:\n",
    "        print(\"Failed to fetch data from the API. Status Code:\", response.status_code)\n",
    "\n",
    "# Check the length of the full dataset. It will be up to `total`,\n",
    "# potentially less if there were missing values\n",
    "print(\"Length of full dataset:\", len(full_dataset))\n"
   ]
  },
  {
   "cell_type": "code",
   "execution_count": null,
   "metadata": {},
   "outputs": [],
   "source": [
    "\n",
    "\n"
   ]
  },
  {
   "cell_type": "code",
   "execution_count": null,
   "metadata": {},
   "outputs": [],
   "source": []
  },
  {
   "cell_type": "markdown",
   "metadata": {},
   "source": [
    "This code may take up to a few minutes to run.\n",
    "\n",
    "If you get an error trying to get the response body in JSON format, try adding `time.sleep(1)` right after the `requests.get` line, so your code will sleep for 1 second between each API call."
   ]
  },
  {
   "cell_type": "markdown",
   "metadata": {},
   "source": [
    "## 3. Perform Exploratory Analysis\n",
    "\n",
    "Take the businesses from the previous question and do an initial exploratory analysis. We have provided some plots for you to interpret:"
   ]
  },
  {
   "cell_type": "code",
   "execution_count": 65,
   "metadata": {},
   "outputs": [
    {
     "ename": "AttributeError",
     "evalue": "'NoneType' object has no attribute 'replace'",
     "output_type": "error",
     "traceback": [
      "\u001b[1;31m---------------------------------------------------------------------------\u001b[0m",
      "\u001b[1;31mAttributeError\u001b[0m                            Traceback (most recent call last)",
      "\u001b[1;32m<ipython-input-65-2c402ae4d6ec>\u001b[0m in \u001b[0;36m<module>\u001b[1;34m\u001b[0m\n\u001b[0;32m     23\u001b[0m \u001b[1;33m\u001b[0m\u001b[0m\n\u001b[0;32m     24\u001b[0m \u001b[1;31m# Plot price distribution\u001b[0m\u001b[1;33m\u001b[0m\u001b[1;33m\u001b[0m\u001b[1;33m\u001b[0m\u001b[0m\n\u001b[1;32m---> 25\u001b[1;33m \u001b[0mall_prices\u001b[0m \u001b[1;33m=\u001b[0m \u001b[1;33m[\u001b[0m\u001b[0mx\u001b[0m\u001b[1;33m[\u001b[0m\u001b[1;34m\"price\"\u001b[0m\u001b[1;33m]\u001b[0m\u001b[1;33m.\u001b[0m\u001b[0mreplace\u001b[0m\u001b[1;33m(\u001b[0m\u001b[1;34m\"$\"\u001b[0m\u001b[1;33m,\u001b[0m \u001b[1;34mr\"\\$\"\u001b[0m\u001b[1;33m)\u001b[0m \u001b[1;32mfor\u001b[0m \u001b[0mx\u001b[0m \u001b[1;32min\u001b[0m \u001b[0mfull_dataset\u001b[0m\u001b[1;33m]\u001b[0m\u001b[1;33m\u001b[0m\u001b[1;33m\u001b[0m\u001b[0m\n\u001b[0m\u001b[0;32m     26\u001b[0m \u001b[0mprice_counter\u001b[0m \u001b[1;33m=\u001b[0m \u001b[0mCounter\u001b[0m\u001b[1;33m(\u001b[0m\u001b[0mall_prices\u001b[0m\u001b[1;33m)\u001b[0m\u001b[1;33m\u001b[0m\u001b[1;33m\u001b[0m\u001b[0m\n\u001b[0;32m     27\u001b[0m \u001b[0mprice_keys\u001b[0m \u001b[1;33m=\u001b[0m \u001b[0msorted\u001b[0m\u001b[1;33m(\u001b[0m\u001b[0mprice_counter\u001b[0m\u001b[1;33m.\u001b[0m\u001b[0mkeys\u001b[0m\u001b[1;33m(\u001b[0m\u001b[1;33m)\u001b[0m\u001b[1;33m)\u001b[0m\u001b[1;33m\u001b[0m\u001b[1;33m\u001b[0m\u001b[0m\n",
      "\u001b[1;32m<ipython-input-65-2c402ae4d6ec>\u001b[0m in \u001b[0;36m<listcomp>\u001b[1;34m(.0)\u001b[0m\n\u001b[0;32m     23\u001b[0m \u001b[1;33m\u001b[0m\u001b[0m\n\u001b[0;32m     24\u001b[0m \u001b[1;31m# Plot price distribution\u001b[0m\u001b[1;33m\u001b[0m\u001b[1;33m\u001b[0m\u001b[1;33m\u001b[0m\u001b[0m\n\u001b[1;32m---> 25\u001b[1;33m \u001b[0mall_prices\u001b[0m \u001b[1;33m=\u001b[0m \u001b[1;33m[\u001b[0m\u001b[0mx\u001b[0m\u001b[1;33m[\u001b[0m\u001b[1;34m\"price\"\u001b[0m\u001b[1;33m]\u001b[0m\u001b[1;33m.\u001b[0m\u001b[0mreplace\u001b[0m\u001b[1;33m(\u001b[0m\u001b[1;34m\"$\"\u001b[0m\u001b[1;33m,\u001b[0m \u001b[1;34mr\"\\$\"\u001b[0m\u001b[1;33m)\u001b[0m \u001b[1;32mfor\u001b[0m \u001b[0mx\u001b[0m \u001b[1;32min\u001b[0m \u001b[0mfull_dataset\u001b[0m\u001b[1;33m]\u001b[0m\u001b[1;33m\u001b[0m\u001b[1;33m\u001b[0m\u001b[0m\n\u001b[0m\u001b[0;32m     26\u001b[0m \u001b[0mprice_counter\u001b[0m \u001b[1;33m=\u001b[0m \u001b[0mCounter\u001b[0m\u001b[1;33m(\u001b[0m\u001b[0mall_prices\u001b[0m\u001b[1;33m)\u001b[0m\u001b[1;33m\u001b[0m\u001b[1;33m\u001b[0m\u001b[0m\n\u001b[0;32m     27\u001b[0m \u001b[0mprice_keys\u001b[0m \u001b[1;33m=\u001b[0m \u001b[0msorted\u001b[0m\u001b[1;33m(\u001b[0m\u001b[0mprice_counter\u001b[0m\u001b[1;33m.\u001b[0m\u001b[0mkeys\u001b[0m\u001b[1;33m(\u001b[0m\u001b[1;33m)\u001b[0m\u001b[1;33m)\u001b[0m\u001b[1;33m\u001b[0m\u001b[1;33m\u001b[0m\u001b[0m\n",
      "\u001b[1;31mAttributeError\u001b[0m: 'NoneType' object has no attribute 'replace'"
     ]
    },
    {
     "data": {
      "image/png": "[encoded data removed]",
      "text/plain": [
       "<Figure size 1152x360 with 3 Axes>"
      ]
     },
     "metadata": {
      "needs_background": "light"
     },
     "output_type": "display_data"
    }
   ],
   "source": [
    "# Run this cell without changes\n",
    "from collections import Counter\n",
    "import matplotlib.pyplot as plt\n",
    "%matplotlib inline\n",
    "\n",
    "fig, (ax1, ax2, ax3) = plt.subplots(ncols=3, figsize=(16, 5))\n",
    "\n",
    "# Plot distribution of number of reviews\n",
    "all_review_counts = [x[\"review_count\"] for x in full_dataset]\n",
    "ax1.hist(all_review_counts)\n",
    "ax1.set_title(\"Review Count Distribution\")\n",
    "ax1.set_xlabel(\"Number of Reviews\")\n",
    "ax1.set_ylabel(\"Number of Businesses\")\n",
    "\n",
    "# Plot rating distribution\n",
    "all_ratings = [x[\"rating\"] for x in full_dataset]\n",
    "rating_counter = Counter(all_ratings)\n",
    "rating_keys = sorted(rating_counter.keys())\n",
    "ax2.bar(rating_keys, [rating_counter[key] for key in rating_keys])\n",
    "ax2.set_title(\"Rating Distribution\")\n",
    "ax2.set_xlabel(\"Rating\")\n",
    "ax2.set_ylabel(\"Number of Businesses\")\n",
    "\n",
    "# Plot price distribution\n",
    "all_prices = [x[\"price\"].replace(\"$\", r\"\\$\") for x in full_dataset]\n",
    "price_counter = Counter(all_prices)\n",
    "price_keys = sorted(price_counter.keys())\n",
    "ax3.bar(price_keys, [price_counter[key] for key in price_keys])\n",
    "ax3.set_title(\"Price Distribution\")\n",
    "ax3.set_xlabel(\"Price Category\")\n",
    "ax3.set_ylabel(\"Number of Businesses\");"
   ]
  },
  {
   "cell_type": "markdown",
   "metadata": {},
   "source": [
    "Describe the distributions displayed above and interpret them in the context of your query. (Your answer may differ from the solution branch depending on your query.)"
   ]
  },
  {
   "cell_type": "code",
   "execution_count": 66,
   "metadata": {},
   "outputs": [
    {
     "data": {
      "text/plain": [
       "'\\nThe review count distribution is very skewed, with the majority of businesses\\nhaving fewer than 1000 reviews, but some businesses with as many as 6000. This\\nis a fairly typical \"long tail problem\" we see with ratings/reviews data, although\\nthat is usually represented with flipped axes\\n\\nThe rating distribution centers and peaks around 4, meaning the typical rating is\\naround 4 out of 5. There are no businesses with a rating below 2 in this dataset.\\n\\nThe price distribution is also skewed, with almost all results falling into the\\n$ or $$ category. This makes sense since we searched for \"pizza\".\\n'"
      ]
     },
     "execution_count": 66,
     "metadata": {},
     "output_type": "execute_result"
    }
   ],
   "source": [
    "# Replace None with appropriate text\n",
    "\"\"\"\n",
    "The review count distribution is very skewed, with the majority of businesses\n",
    "having fewer than 1000 reviews, but some businesses with as many as 6000. This\n",
    "is a fairly typical \"long tail problem\" we see with ratings/reviews data, although\n",
    "that is usually represented with flipped axes\n",
    "\n",
    "The rating distribution centers and peaks around 4, meaning the typical rating is\n",
    "around 4 out of 5. There are no businesses with a rating below 2 in this dataset.\n",
    "\n",
    "The price distribution is also skewed, with almost all results falling into the\n",
    "$ or $$ category. This makes sense since we searched for \"pizza\".\n",
    "\"\"\""
   ]
  },
  {
   "cell_type": "markdown",
   "metadata": {},
   "source": [
    "In the cell below, we also plot the rating distributions by price. In this setup, a price of one dollar sign is \"lower price\" and everything else is \"higher price\"."
   ]
  },
  {
   "cell_type": "code",
   "execution_count": 72,
   "metadata": {},
   "outputs": [
    {
     "name": "stderr",
     "output_type": "stream",
     "text": [
      "C:\\Users\\Admin\\Anacondaaa\\envs\\learn-env\\lib\\site-packages\\numpy\\lib\\histograms.py:906: RuntimeWarning: invalid value encountered in true_divide\n",
      "  return n/db/n.sum(), bin_edges\n"
     ]
    },
    {
     "data": {
      "image/png": "[encoded data removed]",
      "text/plain": [
       "<Figure size 432x288 with 1 Axes>"
      ]
     },
     "metadata": {
      "needs_background": "light"
     },
     "output_type": "display_data"
    }
   ],
   "source": [
    "# Run this cell without changes\n",
    "\n",
    "higher_price = []\n",
    "lower_price = []\n",
    "for row in full_dataset:\n",
    "    if row[\"price\"] == \"$\":\n",
    "        lower_price.append(row[\"rating\"])\n",
    "    else:\n",
    "        higher_price.append(row[\"rating\"])\n",
    "        \n",
    "fig, ax = plt.subplots()\n",
    "\n",
    "ax.hist([higher_price, lower_price], label=[\"higher price\", \"lower price\"], density=True)\n",
    "\n",
    "ax.legend();"
   ]
  },
  {
   "cell_type": "markdown",
   "metadata": {},
   "source": [
    "Is a higher price associated with a higher rating? (No need for any additional math/statistics, just interpret what you see in the plot.)"
   ]
  },
  {
   "cell_type": "code",
   "execution_count": null,
   "metadata": {},
   "outputs": [],
   "source": [
    "# Replace None with appropriate text\n",
    "\"\"\"\n",
    "Yes, higher price seems to be associated with a higher rating.\n",
    "\n",
    "\"\"\""
   ]
  },
  {
   "cell_type": "markdown",
   "metadata": {},
   "source": [
    "Finally, let's look at ratings vs. review counts:"
   ]
  },
  {
   "cell_type": "code",
   "execution_count": 69,
   "metadata": {},
   "outputs": [
    {
     "data": {
      "image/png": "[encoded data removed]",
      "text/plain": [
       "<Figure size 1152x360 with 1 Axes>"
      ]
     },
     "metadata": {
      "needs_background": "light"
     },
     "output_type": "display_data"
    }
   ],
   "source": [
    "# Run this cell without changes\n",
    "fig, ax = plt.subplots(figsize=(16,5))\n",
    "\n",
    "ax.scatter(all_review_counts, all_ratings, alpha=0.2)\n",
    "ax.set_xlabel(\"Number of Reviews\")\n",
    "ax.set_ylabel(\"Rating\")\n",
    "# \"zoom in\" to a subset of review counts\n",
    "ax.set_xlim(left=0, right=1000);"
   ]
  },
  {
   "cell_type": "markdown",
   "metadata": {},
   "source": [
    "Is a higher number of reviews associated with a higher rating?"
   ]
  },
  {
   "cell_type": "code",
   "execution_count": 70,
   "metadata": {},
   "outputs": [
    {
     "data": {
      "text/plain": [
       "'\\nBusinesses with ratings of 5\\nOR below 3 seem to have fewer than 400 reviews. But also there\\nare a lot more ratings of 3.5 for businesses with <100 reviews\\nthan ratings of 3.0. We would need some more analysis and potentially\\na clarification of the question to answer this more thoroughly\\n'"
      ]
     },
     "execution_count": 70,
     "metadata": {},
     "output_type": "execute_result"
    }
   ],
   "source": [
    "# Replace None with appropriate text\n",
    "\"\"\"\n",
    "Businesses with ratings of 5\n",
    "OR below 3 seem to have fewer than 400 reviews. But also there\n",
    "are a lot more ratings of 3.5 for businesses with <100 reviews\n",
    "than ratings of 3.0. Maybe considering more parameters would be helpful.\n",
    "\"\"\""
   ]
  },
  {
   "cell_type": "markdown",
   "metadata": {},
   "source": [
    "## 4. Create a Folium Map\n",
    "\n",
    "Make a map using Folium of the businesses you retrieved. Be sure to also add popups to the markers giving some basic information such as name, rating and price.\n",
    "\n",
    "You can center the map around the latitude and longitude of the first item in `full_dataset`."
   ]
  },
  {
   "cell_type": "code",
   "execution_count": 71,
   "metadata": {},
   "outputs": [
    {
     "data": {
      "text/html": [
       "<div style=\"width:100%;\"><div style=\"position:relative;width:100%;height:0;padding-bottom:60%;\"><span style=\"color:#565656\">Make this Notebook Trusted to load map: File -> Trust Notebook</span><iframe src=\"about:blank\" style=\"position:absolute;width:100%;height:100%;left:0;top:0;border:none !important;\" data-html=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 onload=\"this.contentDocument.open();this.contentDocument.write(atob(this.getAttribute('data-html')));this.contentDocument.close();\" allowfullscreen webkitallowfullscreen mozallowfullscreen></iframe></div></div>"
      ],
      "text/plain": [
       "<folium.folium.Map at 0x2909c9c3cd0>"
      ]
     },
     "execution_count": 71,
     "metadata": {},
     "output_type": "execute_result"
    }
   ],
   "source": [
    "import folium\n",
    "\n",
    "# Set up center latitude and longitude\n",
    "center_lat = full_dataset[0][\"latitude\"]\n",
    "center_long = full_dataset[0][\"longitude\"]\n",
    "\n",
    "# Initialize map with center lat and long\n",
    "yelp_map = folium.Map([center_lat, center_long], zoom_start=12)\n",
    "\n",
    "# Adjust this limit to see more or fewer businesses\n",
    "limit=100\n",
    "\n",
    "for business in full_dataset[:limit]:\n",
    "    # Extract information about business\n",
    "    lat = business[\"latitude\"]\n",
    "    long = business[\"longitude\"]\n",
    "    name = business[\"name\"]\n",
    "    rating = business[\"rating\"]\n",
    "    price = business[\"price\"]\n",
    "    details = \"{}\\nPrice: {}\\nRating: {}\".format(name,price,rating)\n",
    "    \n",
    "    # Create popup with relevant details\n",
    "    popup = folium.Popup(details)\n",
    "    \n",
    "    # Create marker with relevant lat/long and popup\n",
    "    marker = folium.Marker([lat, long], popup=popup)\n",
    "    \n",
    "    marker.add_to(yelp_map)\n",
    "\n",
    "yelp_map"
   ]
  },
  {
   "cell_type": "markdown",
   "metadata": {},
   "source": [
    "## Summary\n",
    "\n",
    "Nice work! In this lab, you've made multiple API calls to Yelp in order to paginate through a results set, performing some basic exploratory analysis and then creating a nice interactive map to display the results using Folium! Well done!"
   ]
  }
 ],
 "metadata": {
  "kernelspec": {
   "display_name": "Python 3",
   "language": "python",
   "name": "python3"
  },
  "language_info": {
   "codemirror_mode": {
    "name": "ipython",
    "version": 3
   },
   "file_extension": ".py",
   "mimetype": "text/x-python",
   "name": "python",
   "nbconvert_exporter": "python",
   "pygments_lexer": "ipython3",
   "version": "3.8.5"
  },
  "toc": {
   "base_numbering": 1,
   "nav_menu": {},
   "number_sections": true,
   "sideBar": true,
   "skip_h1_title": false,
   "title_cell": "Table of Contents",
   "title_sidebar": "Contents",
   "toc_cell": false,
   "toc_position": {},
   "toc_section_display": true,
   "toc_window_display": false
  }
 },
 "nbformat": 4,
 "nbformat_minor": 2
}
